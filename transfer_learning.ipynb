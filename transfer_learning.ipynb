{
  "nbformat": 4,
  "nbformat_minor": 0,
  "metadata": {
    "kernelspec": {
      "display_name": "Python 3",
      "language": "python",
      "name": "python3"
    },
    "language_info": {
      "codemirror_mode": {
        "name": "ipython",
        "version": 2
      },
      "file_extension": ".py",
      "mimetype": "text/x-python",
      "name": "python",
      "nbconvert_exporter": "python",
      "pygments_lexer": "ipython2",
      "version": "2.7.6"
    },
    "pycharm": {
      "stem_cell": {
        "cell_type": "raw",
        "source": [],
        "metadata": {
          "collapsed": false
        }
      }
    },
    "colab": {
      "name": "transfer_learning.ipynb",
      "provenance": [],
      "collapsed_sections": []
    }
  },
  "cells": [
    {
      "cell_type": "markdown",
      "metadata": {
        "id": "Uq2IuWqypfMx",
        "colab_type": "text"
      },
      "source": [
        "**Goal:** Build a binary digit classifier, using \"transfer learning\". </br>\n",
        "**Phases:**</br>\n",
        "**1)** Load \"mnist\" dataset, and take only images of digits 0 or 1. </br>\n",
        "**2)** Extract features using VGG16 for each image in both train and test   sets. (Note that this part refers to the transfer learning). </br>\n",
        "**3)** Train k-nearest neighbors classifier on the training set,\n",
        "   and evaluates it on the test set. </br>\n"
      ]
    },
    {
      "cell_type": "code",
      "metadata": {
        "id": "-fdASsoCnoOA",
        "colab_type": "code",
        "colab": {
          "base_uri": "https://localhost:8080/",
          "height": 69
        },
        "outputId": "d46519d5-cf6f-4c14-ae3c-e63d0d4a5267"
      },
      "source": [
        "import numpy as np\n",
        "import tensorflow as tf\n",
        "from tensorflow import keras\n",
        "from keras.datasets import mnist\n",
        "\n",
        "from sklearn.neighbors import KNeighborsClassifier\n",
        "from sklearn.metrics import accuracy_score\n",
        "from sklearn.metrics import precision_score\n",
        "\n",
        "\n",
        "def extract_data():\n",
        "    (X_train, y_train), (X_test, y_test) = mnist.load_data()\n",
        "\n",
        "    # extract only images of digits \"1\" and \"0\"\n",
        "    train_images = np.logical_or((y_train == 0), (y_train == 1))\n",
        "    test_images = np.logical_or((y_test == 0), (y_test == 1))\n",
        "    X_train, y_train = np.array(X_train[train_images]), np.array(y_train[train_images])\n",
        "    X_test, y_test = np.array(X_test[test_images]), np.array(y_test[test_images])\n",
        "\n",
        "    return (X_train[0:100], y_train[0:100]), (X_test[0:2000], y_test[0:2000])\n",
        "\n",
        "def extract_features(X_data):\n",
        "\n",
        "    # transform images to rgb as required by VGG\n",
        "    X_data = tf.image.grayscale_to_rgb(tf.expand_dims(X_data, axis=3))\n",
        "    # resize to minimum size of (32x32)\n",
        "    X_data = tf.image.resize_with_pad(X_data, 32, 32)\n",
        "    # normilaize pixels\n",
        "    X_data = X_data / 255.\n",
        "\n",
        "    # perform pixel scaling in a way that was performed\n",
        "    # to images in the training dataset when the vgg16 model was developed\n",
        "    from keras.applications.vgg16 import preprocess_input\n",
        "    X_data = preprocess_input(X_data)\n",
        "\n",
        "    # using model without last layers\n",
        "    model_vgg16 = tf.keras.applications.VGG16(include_top=False, weights='imagenet', input_shape=(32, 32, 3))\n",
        "    #model_vgg16.summary() # TODO\n",
        "\n",
        "    vgg16_feature = model_vgg16.predict(X_data)\n",
        "\n",
        "    vgg16_feature_np = np.array(vgg16_feature)\n",
        "    a, b, c, d = vgg16_feature_np.shape\n",
        "    vgg16_feature_flatten = np.reshape(vgg16_feature_np, (a, b * c * d))\n",
        "\n",
        "    return vgg16_feature_flatten\n",
        "\n",
        "\n",
        "# loading the dataset\n",
        "(X_train, y_train), (X_test, y_test) = extract_data()\n",
        "\n",
        "# extract features\n",
        "train_features = extract_features(X_train)\n",
        "test_features = extract_features(X_test)\n",
        "\n",
        "# train a KNN model on the training data\n",
        "knn = KNeighborsClassifier(n_neighbors=5).fit(train_features, y_train)\n",
        "\n",
        "# predict labels on the test set\n",
        "y_pred = knn.predict(test_features)\n",
        "\n",
        "# evaluate model results on the test set\n",
        "print(\"KNN model was traind on\", X_train.shape[0],\"samples,\"\n",
        "      \" and recived the following scores on test set of size\", X_test.shape[0], \":\")\n",
        "print(\"accuracy_score\", accuracy_score(y_test, y_pred))\n",
        "print(\"precision_score\", precision_score(y_test, y_pred))\n"
      ],
      "execution_count": 5,
      "outputs": [
        {
          "output_type": "stream",
          "text": [
            "KNN model was traind on 100 samples, and recived the following scores on test set of size 2000 :\n",
            "accuracy_score 0.985\n",
            "precision_score 0.9779816513761468\n"
          ],
          "name": "stdout"
        }
      ]
    }
  ]
}